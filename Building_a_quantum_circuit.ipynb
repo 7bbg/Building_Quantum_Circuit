{
  "nbformat": 4,
  "nbformat_minor": 0,
  "metadata": {
    "colab": {
      "provenance": []
    },
    "kernelspec": {
      "name": "python3",
      "display_name": "Python 3"
    },
    "language_info": {
      "name": "python"
    }
  },
  "cells": [
    {
      "cell_type": "code",
      "execution_count": 1,
      "metadata": {
        "colab": {
          "base_uri": "https://localhost:8080/"
        },
        "id": "lpoh6_7bSJt4",
        "outputId": "3f54a625-f3a2-4f3d-c7fd-e1afead218cd"
      },
      "outputs": [
        {
          "output_type": "stream",
          "name": "stdout",
          "text": [
            "\u001b[2K     \u001b[90m━━━━━━━━━━━━━━━━━━━━━━━━━━━━━━━━━━━━━━━\u001b[0m \u001b[32m57.6/57.6 kB\u001b[0m \u001b[31m600.9 kB/s\u001b[0m eta \u001b[36m0:00:00\u001b[0m\n",
            "\u001b[2K     \u001b[90m━━━━━━━━━━━━━━━━━━━━━━━━━━━━━━━━━━━━━━━\u001b[0m \u001b[32m577.4/577.4 kB\u001b[0m \u001b[31m9.6 MB/s\u001b[0m eta \u001b[36m0:00:00\u001b[0m\n",
            "\u001b[2K     \u001b[90m━━━━━━━━━━━━━━━━━━━━━━━━━━━━━━━━━━━━━━━━\u001b[0m \u001b[32m66.4/66.4 kB\u001b[0m \u001b[31m2.3 MB/s\u001b[0m eta \u001b[36m0:00:00\u001b[0m\n",
            "\u001b[2K     \u001b[90m━━━━━━━━━━━━━━━━━━━━━━━━━━━━━━━━━━━━━━━━\u001b[0m \u001b[32m1.8/1.8 MB\u001b[0m \u001b[31m29.7 MB/s\u001b[0m eta \u001b[36m0:00:00\u001b[0m\n",
            "\u001b[2K     \u001b[90m━━━━━━━━━━━━━━━━━━━━━━━━━━━━━━━━━━━━━━━\u001b[0m \u001b[32m594.6/594.6 kB\u001b[0m \u001b[31m4.7 MB/s\u001b[0m eta \u001b[36m0:00:00\u001b[0m\n",
            "\u001b[2K     \u001b[90m━━━━━━━━━━━━━━━━━━━━━━━━━━━━━━━━━━━━━━━━\u001b[0m \u001b[32m2.0/2.0 MB\u001b[0m \u001b[31m46.8 MB/s\u001b[0m eta \u001b[36m0:00:00\u001b[0m\n",
            "\u001b[2K     \u001b[90m━━━━━━━━━━━━━━━━━━━━━━━━━━━━━━━━━━━━━━━\u001b[0m \u001b[32m120.2/120.2 kB\u001b[0m \u001b[31m4.8 MB/s\u001b[0m eta \u001b[36m0:00:00\u001b[0m\n",
            "\u001b[2K     \u001b[90m━━━━━━━━━━━━━━━━━━━━━━━━━━━━━━━━━━━━━━━\u001b[0m \u001b[32m223.1/223.1 kB\u001b[0m \u001b[31m9.9 MB/s\u001b[0m eta \u001b[36m0:00:00\u001b[0m\n",
            "\u001b[2K     \u001b[90m━━━━━━━━━━━━━━━━━━━━━━━━━━━━━━━━━━━━━━━━\u001b[0m \u001b[32m45.6/45.6 kB\u001b[0m \u001b[31m2.5 MB/s\u001b[0m eta \u001b[36m0:00:00\u001b[0m\n",
            "\u001b[?25h  Preparing metadata (setup.py) ... \u001b[?25l\u001b[?25hdone\n",
            "\u001b[2K     \u001b[90m━━━━━━━━━━━━━━━━━━━━━━━━━━━━━━━━━━━━━━━\u001b[0m \u001b[32m151.7/151.7 kB\u001b[0m \u001b[31m7.7 MB/s\u001b[0m eta \u001b[36m0:00:00\u001b[0m\n",
            "\u001b[2K     \u001b[90m━━━━━━━━━━━━━━━━━━━━━━━━━━━━━━━━━━━━━━━\u001b[0m \u001b[32m229.9/229.9 kB\u001b[0m \u001b[31m5.1 MB/s\u001b[0m eta \u001b[36m0:00:00\u001b[0m\n",
            "\u001b[?25h  Preparing metadata (setup.py) ... \u001b[?25l\u001b[?25hdone\n",
            "\u001b[2K     \u001b[90m━━━━━━━━━━━━━━━━━━━━━━━━━━━━━━━━━━━━━━━━\u001b[0m \u001b[32m71.5/71.5 kB\u001b[0m \u001b[31m6.8 MB/s\u001b[0m eta \u001b[36m0:00:00\u001b[0m\n",
            "\u001b[2K     \u001b[90m━━━━━━━━━━━━━━━━━━━━━━━━━━━━━━━━━━━━━━━━\u001b[0m \u001b[32m60.6/60.6 kB\u001b[0m \u001b[31m4.6 MB/s\u001b[0m eta \u001b[36m0:00:00\u001b[0m\n",
            "\u001b[2K     \u001b[90m━━━━━━━━━━━━━━━━━━━━━━━━━━━━━━━━━━━━━━━━\u001b[0m \u001b[32m98.7/98.7 kB\u001b[0m \u001b[31m9.1 MB/s\u001b[0m eta \u001b[36m0:00:00\u001b[0m\n",
            "\u001b[2K     \u001b[90m━━━━━━━━━━━━━━━━━━━━━━━━━━━━━━━━━━━━━━━━\u001b[0m \u001b[32m1.7/1.7 MB\u001b[0m \u001b[31m57.0 MB/s\u001b[0m eta \u001b[36m0:00:00\u001b[0m\n",
            "\u001b[2K     \u001b[90m━━━━━━━━━━━━━━━━━━━━━━━━━━━━━━━━━━━━━━\u001b[0m \u001b[32m109.5/109.5 kB\u001b[0m \u001b[31m12.7 MB/s\u001b[0m eta \u001b[36m0:00:00\u001b[0m\n",
            "\u001b[2K     \u001b[90m━━━━━━━━━━━━━━━━━━━━━━━━━━━━━━━━━━━━━━━━\u001b[0m \u001b[32m69.6/69.6 kB\u001b[0m \u001b[31m7.5 MB/s\u001b[0m eta \u001b[36m0:00:00\u001b[0m\n",
            "\u001b[2K     \u001b[90m━━━━━━━━━━━━━━━━━━━━━━━━━━━━━━━━━━━━━━\u001b[0m \u001b[32m519.4/519.4 kB\u001b[0m \u001b[31m41.6 MB/s\u001b[0m eta \u001b[36m0:00:00\u001b[0m\n",
            "\u001b[2K     \u001b[90m━━━━━━━━━━━━━━━━━━━━━━━━━━━━━━━━━━━━━━━━\u001b[0m \u001b[32m58.3/58.3 kB\u001b[0m \u001b[31m6.4 MB/s\u001b[0m eta \u001b[36m0:00:00\u001b[0m\n",
            "\u001b[?25h  Building wheel for lark (setup.py) ... \u001b[?25l\u001b[?25hdone\n",
            "  Building wheel for rpcq (setup.py) ... \u001b[?25l\u001b[?25hdone\n"
          ]
        }
      ],
      "source": [
        "!pip install --quiet cirq"
      ]
    },
    {
      "cell_type": "code",
      "source": [
        "import cirq"
      ],
      "metadata": {
        "id": "UPJqTkhcTXZl"
      },
      "execution_count": 2,
      "outputs": []
    },
    {
      "cell_type": "markdown",
      "source": [
        "Creating quibits"
      ],
      "metadata": {
        "id": "MoWlL23oT8Fk"
      }
    },
    {
      "cell_type": "code",
      "source": [
        "myqubit0 = cirq.LineQubit(0)\n",
        "myqubit1 = cirq.LineQubit(1)\n",
        "myqubit2 = cirq.LineQubit(2)\n",
        "myqubit3 = cirq.LineQubit(3)\n",
        "myqubit4 = cirq.LineQubit(4)\n",
        "myqubit5 = cirq.LineQubit(5)\n"
      ],
      "metadata": {
        "id": "ZDgyLoOPTlkt"
      },
      "execution_count": 3,
      "outputs": []
    },
    {
      "cell_type": "code",
      "source": [
        "myqubits= cirq.LineQubit.range(6)"
      ],
      "metadata": {
        "id": "LWjRDi7jT7P9"
      },
      "execution_count": 4,
      "outputs": []
    },
    {
      "cell_type": "code",
      "source": [
        "print(myqubits)"
      ],
      "metadata": {
        "colab": {
          "base_uri": "https://localhost:8080/"
        },
        "id": "Nor9CBhfUMCU",
        "outputId": "286086ac-97f0-4664-c22f-11f592e15043"
      },
      "execution_count": 5,
      "outputs": [
        {
          "output_type": "stream",
          "name": "stdout",
          "text": [
            "[cirq.LineQubit(0), cirq.LineQubit(1), cirq.LineQubit(2), cirq.LineQubit(3), cirq.LineQubit(4), cirq.LineQubit(5)]\n"
          ]
        }
      ]
    },
    {
      "cell_type": "markdown",
      "source": [
        "To specify where the qubits is located in the grid on a x y plane"
      ],
      "metadata": {
        "id": "MIAh8CAAUyLu"
      }
    },
    {
      "cell_type": "code",
      "source": [
        "myqubit0=cirq.GridQubit(0,1)"
      ],
      "metadata": {
        "id": "aIoX2KaXUd0F"
      },
      "execution_count": 6,
      "outputs": []
    },
    {
      "cell_type": "code",
      "source": [
        "print(myqubit0)"
      ],
      "metadata": {
        "colab": {
          "base_uri": "https://localhost:8080/"
        },
        "id": "Yu0QWjTnUnmd",
        "outputId": "34420392-605a-4f3c-81b3-a3c62c510bf8"
      },
      "execution_count": 7,
      "outputs": [
        {
          "output_type": "stream",
          "name": "stdout",
          "text": [
            "q(0, 1)\n"
          ]
        }
      ]
    },
    {
      "cell_type": "code",
      "source": [
        "myqubits=cirq.GridQubit.rect(rows=3, cols=2)"
      ],
      "metadata": {
        "id": "7NBnWm1bVCrO"
      },
      "execution_count": 8,
      "outputs": []
    },
    {
      "cell_type": "code",
      "source": [
        "print(myqubits)"
      ],
      "metadata": {
        "colab": {
          "base_uri": "https://localhost:8080/"
        },
        "id": "DGCBzjLvVQ1F",
        "outputId": "7821f980-8bb5-40d0-8549-7d694cec2e25"
      },
      "execution_count": 9,
      "outputs": [
        {
          "output_type": "stream",
          "name": "stdout",
          "text": [
            "[cirq.GridQubit(0, 0), cirq.GridQubit(0, 1), cirq.GridQubit(1, 0), cirq.GridQubit(1, 1), cirq.GridQubit(2, 0), cirq.GridQubit(2, 1)]\n"
          ]
        }
      ]
    },
    {
      "cell_type": "code",
      "source": [
        "myqubits=cirq.GridQubit.square(3)"
      ],
      "metadata": {
        "id": "lUELNhdlVdzV"
      },
      "execution_count": 10,
      "outputs": []
    },
    {
      "cell_type": "code",
      "source": [
        "print(myqubits)"
      ],
      "metadata": {
        "colab": {
          "base_uri": "https://localhost:8080/"
        },
        "id": "uqg-7vTEVi1u",
        "outputId": "2d3c2e9b-38b3-4e80-e4f8-d5391915d352"
      },
      "execution_count": 11,
      "outputs": [
        {
          "output_type": "stream",
          "name": "stdout",
          "text": [
            "[cirq.GridQubit(0, 0), cirq.GridQubit(0, 1), cirq.GridQubit(0, 2), cirq.GridQubit(1, 0), cirq.GridQubit(1, 1), cirq.GridQubit(1, 2), cirq.GridQubit(2, 0), cirq.GridQubit(2, 1), cirq.GridQubit(2, 2)]\n"
          ]
        }
      ]
    },
    {
      "cell_type": "code",
      "source": [
        "myqubit0= cirq.NamedQubit(\"x0\")\n",
        "myqubit1= cirq.NamedQubit(\"x1\")\n",
        "myqubit2= cirq.NamedQubit(\"x2\")\n",
        "myqubit3= cirq.NamedQubit(\"x3\")"
      ],
      "metadata": {
        "id": "k5MwBGk3Z66K"
      },
      "execution_count": 12,
      "outputs": []
    },
    {
      "cell_type": "code",
      "source": [
        "print(myqubit1)"
      ],
      "metadata": {
        "colab": {
          "base_uri": "https://localhost:8080/"
        },
        "id": "oZ0I8teLafLm",
        "outputId": "adaf0185-c183-4d95-9eb5-c54bfd8e34ac"
      },
      "execution_count": 14,
      "outputs": [
        {
          "output_type": "stream",
          "name": "stdout",
          "text": [
            "x1\n"
          ]
        }
      ]
    },
    {
      "cell_type": "markdown",
      "source": [
        "Adding gates on qubits to circuits, moments"
      ],
      "metadata": {
        "id": "8q0uaDwgatZC"
      }
    },
    {
      "cell_type": "code",
      "source": [
        "myqubit0= cirq.LineQubit.range(6)"
      ],
      "metadata": {
        "id": "i3bi_9Yca1dv"
      },
      "execution_count": 15,
      "outputs": []
    },
    {
      "cell_type": "code",
      "source": [
        "mycircuit= cirq.Circuit()\n",
        "\n",
        "\n",
        "mycircuit.append(cirq.H(myqubits[0]))\n",
        "mycircuit.append(cirq.H(myqubits[1]))\n",
        "mycircuit.append(cirq.H(myqubits[2]))\n",
        "mycircuit.append(cirq.H(myqubits[3]))\n",
        "mycircuit.append(cirq.H(myqubits[4]))\n",
        "mycircuit.append(cirq.H(myqubits[5]))"
      ],
      "metadata": {
        "id": "TLyl--lVbAcZ"
      },
      "execution_count": 16,
      "outputs": []
    },
    {
      "cell_type": "code",
      "source": [
        "print(mycircuit)"
      ],
      "metadata": {
        "colab": {
          "base_uri": "https://localhost:8080/"
        },
        "id": "vnlNfiqWbZ4N",
        "outputId": "ff1ff8b9-d830-4b50-d9e0-61e6fdffa23b"
      },
      "execution_count": 17,
      "outputs": [
        {
          "output_type": "stream",
          "name": "stdout",
          "text": [
            "(0, 0): ───H───\n",
            "\n",
            "(0, 1): ───H───\n",
            "\n",
            "(0, 2): ───H───\n",
            "\n",
            "(1, 0): ───H───\n",
            "\n",
            "(1, 1): ───H───\n",
            "\n",
            "(1, 2): ───H───\n"
          ]
        }
      ]
    },
    {
      "cell_type": "code",
      "source": [
        "mycircuit= cirq.Circuit([cirq.H(qubit) for qubit in myqubits])"
      ],
      "metadata": {
        "id": "5kQKrUQ9b31-"
      },
      "execution_count": 18,
      "outputs": []
    },
    {
      "cell_type": "code",
      "source": [
        "print(mycircuit)"
      ],
      "metadata": {
        "colab": {
          "base_uri": "https://localhost:8080/"
        },
        "id": "QMF6pDr5cPZ4",
        "outputId": "cfa93b94-d8d6-43fd-e76e-0dba25a19fa3"
      },
      "execution_count": 19,
      "outputs": [
        {
          "output_type": "stream",
          "name": "stdout",
          "text": [
            "(0, 0): ───H───\n",
            "\n",
            "(0, 1): ───H───\n",
            "\n",
            "(0, 2): ───H───\n",
            "\n",
            "(1, 0): ───H───\n",
            "\n",
            "(1, 1): ───H───\n",
            "\n",
            "(1, 2): ───H───\n",
            "\n",
            "(2, 0): ───H───\n",
            "\n",
            "(2, 1): ───H───\n",
            "\n",
            "(2, 2): ───H───\n"
          ]
        }
      ]
    },
    {
      "cell_type": "code",
      "source": [
        "mycircuit= cirq.Circuit(cirq.H.on_each(myqubits))"
      ],
      "metadata": {
        "id": "oMZzsCyScWk_"
      },
      "execution_count": 20,
      "outputs": []
    },
    {
      "cell_type": "code",
      "source": [
        "print(mycircuit)"
      ],
      "metadata": {
        "colab": {
          "base_uri": "https://localhost:8080/"
        },
        "id": "6sJMVkfqciJb",
        "outputId": "f9a83d96-8ecd-4536-f8b7-5564bedc11ad"
      },
      "execution_count": 21,
      "outputs": [
        {
          "output_type": "stream",
          "name": "stdout",
          "text": [
            "(0, 0): ───H───\n",
            "\n",
            "(0, 1): ───H───\n",
            "\n",
            "(0, 2): ───H───\n",
            "\n",
            "(1, 0): ───H───\n",
            "\n",
            "(1, 1): ───H───\n",
            "\n",
            "(1, 2): ───H───\n",
            "\n",
            "(2, 0): ───H───\n",
            "\n",
            "(2, 1): ───H───\n",
            "\n",
            "(2, 2): ───H───\n"
          ]
        }
      ]
    },
    {
      "cell_type": "code",
      "source": [
        "mycircuit= cirq.Circuit(cirq.X(myqubits[5]))\n",
        "mycircuit.append(cirq.H.on_each(myqubits))"
      ],
      "metadata": {
        "id": "6YVDTxFacoQj"
      },
      "execution_count": 22,
      "outputs": []
    },
    {
      "cell_type": "code",
      "source": [
        "print(mycircuit)"
      ],
      "metadata": {
        "colab": {
          "base_uri": "https://localhost:8080/"
        },
        "id": "JSoSYMGrdCL9",
        "outputId": "951d5f98-a4d1-431e-d013-fc2638502d33"
      },
      "execution_count": 23,
      "outputs": [
        {
          "output_type": "stream",
          "name": "stdout",
          "text": [
            "(0, 0): ───H───────\n",
            "\n",
            "(0, 1): ───H───────\n",
            "\n",
            "(0, 2): ───H───────\n",
            "\n",
            "(1, 0): ───H───────\n",
            "\n",
            "(1, 1): ───H───────\n",
            "\n",
            "(1, 2): ───X───H───\n",
            "\n",
            "(2, 0): ───H───────\n",
            "\n",
            "(2, 1): ───H───────\n",
            "\n",
            "(2, 2): ───H───────\n"
          ]
        }
      ]
    },
    {
      "cell_type": "markdown",
      "source": [
        "To make the x gates sits in the firts moment and all hadamard gates [1] go into the next moment\n",
        "\n",
        "\n",
        "\n",
        "\n",
        "1.  A Hadamard gate is a quantum logic gate that acts on a single qubit. It is one of the most important gates in quantum computing, as it is used to create superposition states, which are essential for many quantum algorithms.\n",
        "2. Quantum circuit are collection of moment were each moment contains operations of the qubits.\n",
        "\n"
      ],
      "metadata": {
        "id": "PTFamzHtd0FM"
      }
    },
    {
      "cell_type": "code",
      "source": [
        "moment0=cirq.Moment(cirq.X(myqubits[5]))\n",
        "moment1=cirq.Moment(cirq.H.on_each(myqubits))\n",
        "\n",
        "mycircuit=cirq.Circuit()\n"
      ],
      "metadata": {
        "id": "VC9_9wgCe88H"
      },
      "execution_count": 25,
      "outputs": []
    },
    {
      "cell_type": "code",
      "source": [
        "mycircuit=cirq.Circuit()\n",
        "myqubits = cirq.LineQubit.range(6)\n",
        "\n",
        "reset_all_qubits=cirq.Moment([cirq.reset(qubit) for qubit in myqubits])\n",
        "\n",
        "mycircuit.append(reset_all_qubits)\n",
        "\n",
        "\n",
        "setup_detect_qubit= cirq.X(myqubits[-1])\n",
        "mycircuit.append(setup_detect_qubit)\n",
        "\n",
        "#apply hadamard gates to each circuit\n",
        "\n",
        "H_gates= cirq.Moment(cirq.H.on_each(myqubits))\n",
        "mycircuit.append(H_gates)\n",
        "\n",
        "mycircuit.append([\n",
        "                  cirq.CNOT(myqubits[0], myqubits[5]),\n",
        "                  cirq.CNOT(myqubits[1],myqubits[5]),\n",
        "                  cirq.CNOT(myqubits[4],myqubits[5]),\n",
        "])\n",
        "\n",
        "mycircuit.append(H_gates)\n",
        "\n",
        "print(mycircuit)"
      ],
      "metadata": {
        "colab": {
          "base_uri": "https://localhost:8080/"
        },
        "id": "1a5dlPoMge-o",
        "outputId": "3b2f4e1e-9921-4b90-ee13-f1ae8d7324c4"
      },
      "execution_count": 26,
      "outputs": [
        {
          "output_type": "stream",
          "name": "stdout",
          "text": [
            "0: ───R───────H───@───────────H───\n",
            "                  │\n",
            "1: ───R───────H───┼───@───────H───\n",
            "                  │   │\n",
            "2: ───R───────H───┼───┼───────H───\n",
            "                  │   │\n",
            "3: ───R───────H───┼───┼───────H───\n",
            "                  │   │\n",
            "4: ───R───────H───┼───┼───@───H───\n",
            "                  │   │   │\n",
            "5: ───R───X───H───X───X───X───H───\n"
          ]
        }
      ]
    },
    {
      "cell_type": "markdown",
      "source": [
        "::Then testing the circuit"
      ],
      "metadata": {
        "id": "WAYvPRuFihDD"
      }
    },
    {
      "cell_type": "code",
      "source": [
        "measure_gates=cirq.Moment([cirq.measure(qubit) for qubit in myqubits])\n",
        "mycircuit.append(measure_gates)"
      ],
      "metadata": {
        "id": "wW_CYs1yiv8k"
      },
      "execution_count": 28,
      "outputs": []
    },
    {
      "cell_type": "code",
      "source": [
        "print(mycircuit)"
      ],
      "metadata": {
        "colab": {
          "base_uri": "https://localhost:8080/"
        },
        "id": "MzLnBIBZjNwO",
        "outputId": "20319599-6d13-46e1-8611-d2c02f3e8fe4"
      },
      "execution_count": 29,
      "outputs": [
        {
          "output_type": "stream",
          "name": "stdout",
          "text": [
            "0: ───R───────H───@───────────H───M───\n",
            "                  │\n",
            "1: ───R───────H───┼───@───────H───M───\n",
            "                  │   │\n",
            "2: ───R───────H───┼───┼───────H───M───\n",
            "                  │   │\n",
            "3: ───R───────H───┼───┼───────H───M───\n",
            "                  │   │\n",
            "4: ───R───────H───┼───┼───@───H───M───\n",
            "                  │   │   │\n",
            "5: ───R───X───H───X───X───X───H───M───\n"
          ]
        }
      ]
    },
    {
      "cell_type": "code",
      "source": [
        "sim=cirq.Simulator()\n",
        "result=sim.run(mycircuit)\n",
        "\n",
        "print(result)"
      ],
      "metadata": {
        "colab": {
          "base_uri": "https://localhost:8080/"
        },
        "id": "J_2U-w2hjSNa",
        "outputId": "c87137d9-c62c-419a-d585-d45173566330"
      },
      "execution_count": 30,
      "outputs": [
        {
          "output_type": "stream",
          "name": "stdout",
          "text": [
            "q(0)=1\n",
            "q(1)=1\n",
            "q(2)=0\n",
            "q(3)=0\n",
            "q(4)=1\n",
            "q(5)=1\n"
          ]
        }
      ]
    },
    {
      "cell_type": "code",
      "source": [
        "\n",
        "cx_pattern= \"11001\"\n",
        "n=len(cx_pattern)\n",
        "\n",
        "myqubits= cirq.LineQubit.range(n+1)\n",
        "\n",
        "cx_qubits= [myqubits[x] for x in range(n) if cx_pattern[x]=='1']\n",
        "target_qubit= myqubits[-1]\n",
        "\n",
        "mycircuit = cirq.Circuit(\n",
        "    [\n",
        "        cirq.reset_each(*myqubits),\n",
        "        cirq.X(target_qubit),\n",
        "        cirq.Moment(cirq.H.on_each(myqubits)),\n",
        "        cirq.CNOT.on_each(zip(cx_qubits, [target_qubit]*len()))\n",
        "    ]\n",
        "\n",
        ")\n",
        "\n",
        "\n",
        "print(mycircuit)"
      ],
      "metadata": {
        "colab": {
          "base_uri": "https://localhost:8080/",
          "height": 235
        },
        "id": "NEu2KvIAjnmd",
        "outputId": "8ec4698e-b4a5-4a9a-908f-3f056faf5c4b"
      },
      "execution_count": 34,
      "outputs": [
        {
          "output_type": "error",
          "ename": "TypeError",
          "evalue": "ignored",
          "traceback": [
            "\u001b[0;31m---------------------------------------------------------------------------\u001b[0m",
            "\u001b[0;31mTypeError\u001b[0m                                 Traceback (most recent call last)",
            "\u001b[0;32m<ipython-input-34-c166a8f6f7f9>\u001b[0m in \u001b[0;36m<cell line: 9>\u001b[0;34m()\u001b[0m\n\u001b[1;32m     12\u001b[0m         \u001b[0mcirq\u001b[0m\u001b[0;34m.\u001b[0m\u001b[0mX\u001b[0m\u001b[0;34m(\u001b[0m\u001b[0mtarget_qubit\u001b[0m\u001b[0;34m)\u001b[0m\u001b[0;34m,\u001b[0m\u001b[0;34m\u001b[0m\u001b[0;34m\u001b[0m\u001b[0m\n\u001b[1;32m     13\u001b[0m         \u001b[0mcirq\u001b[0m\u001b[0;34m.\u001b[0m\u001b[0mMoment\u001b[0m\u001b[0;34m(\u001b[0m\u001b[0mcirq\u001b[0m\u001b[0;34m.\u001b[0m\u001b[0mH\u001b[0m\u001b[0;34m.\u001b[0m\u001b[0mon_each\u001b[0m\u001b[0;34m(\u001b[0m\u001b[0mmyqubits\u001b[0m\u001b[0;34m)\u001b[0m\u001b[0;34m)\u001b[0m\u001b[0;34m,\u001b[0m\u001b[0;34m\u001b[0m\u001b[0;34m\u001b[0m\u001b[0m\n\u001b[0;32m---> 14\u001b[0;31m         \u001b[0mcirq\u001b[0m\u001b[0;34m.\u001b[0m\u001b[0mCNOT\u001b[0m\u001b[0;34m.\u001b[0m\u001b[0mon_each\u001b[0m\u001b[0;34m(\u001b[0m\u001b[0mzip\u001b[0m\u001b[0;34m(\u001b[0m\u001b[0mcx_qubits\u001b[0m\u001b[0;34m,\u001b[0m \u001b[0;34m[\u001b[0m\u001b[0mtarget_qubit\u001b[0m\u001b[0;34m]\u001b[0m\u001b[0;34m*\u001b[0m\u001b[0mlen\u001b[0m\u001b[0;34m(\u001b[0m\u001b[0;34m)\u001b[0m\u001b[0;34m)\u001b[0m\u001b[0;34m)\u001b[0m\u001b[0;34m,\u001b[0m\u001b[0;34m\u001b[0m\u001b[0;34m\u001b[0m\u001b[0m\n\u001b[0m\u001b[1;32m     15\u001b[0m     ]\n\u001b[1;32m     16\u001b[0m \u001b[0;34m\u001b[0m\u001b[0m\n",
            "\u001b[0;31mTypeError\u001b[0m: len() takes exactly one argument (0 given)"
          ]
        }
      ]
    }
  ]
}